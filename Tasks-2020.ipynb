{
 "cells": [
  {
   "cell_type": "markdown",
   "metadata": {},
   "source": [
    "<img align=\"centre\" width=\"750\" height=\"750\" img src=\"https://i0.wp.com/www.creatingentrepreneursinfood.eu/wp-content/uploads/2017/02/GMIT-logo.png\">"
   ]
  },
  {
   "cell_type": "markdown",
   "metadata": {},
   "source": [
    "# Tasks 2020 \n",
    "\n",
    "* **Author:** John Paul Lee\n",
    "* **Github:** JPLee01\n",
    "* **Email:** G00387906@gmit.ie\n",
    "* **Created:** 09-10-2020, **Last update:** -12-2020\n",
    "****"
   ]
  },
  {
   "cell_type": "markdown",
   "metadata": {},
   "source": [
    "Jupyter Notebook created to store and highlight the four tasks for the Tasks 2020 Assessment for the Fundamentals of Data Analysis Subject.\n",
    "****"
   ]
  },
  {
   "cell_type": "markdown",
   "metadata": {},
   "source": [
    "## Task 1 - Counts\n",
    "Requirment is to write a Python function called *Counts* that takes a list as\n",
    "input and returns a dictionary of unique items in the list as keys and the number of\n",
    "times each item appears as values. Caveat is that the code should not depend\n",
    "on any module from the standard library or otherwise."
   ]
  },
  {
   "cell_type": "markdown",
   "metadata": {},
   "source": [
    "### Introduction\n",
    "Firstly in order to begin this task we need the understand what we mean by a list and dictonary are in Python.\n",
    "\n",
    "#### List and Dictonaries\n",
    "According to Lisa Tagliaferri<sup>[1](#myfootnote1)</sup> a list is data structure in Python that is a mutable, or changeable, ordered sequence of elements. Each element or value that is inside of a list is called an item. Just as strings are defined as characters between quotes, lists are defined by having values between square brackets [ ].\n",
    "\n",
    "An example of a list is as follows:\n",
    "    \n",
    "    list_example = [ \"shark\", \"cuttlefish\", \"squid\", \"anemone\" ]\n",
    "\n",
    "While w3schools.com<sup>[2](#myfootnote2)</sup> defines a dictionary as a collection which is unordered, changeable and indexed. Dictionaries are written with curly brackets, and they have keys and values.\n",
    "\n",
    "An example of a dictionary is as follows:\n",
    "    \n",
    "    dictionary_example = { 11, \"tom\", \"Sean\",  2.4, \"Seven\", 2014 }\n",
    "    \n",
    "Dictionaries and lists share many of the same characteristics inlcuding:\n",
    "   * Both are mutable.\n",
    "   * Both are dynamic. They can grow and shrink as needed.\n",
    "   * Both can be nested. A list can contain another list. A dictionary can contain another dictionary. A dictionary can also contain a list, and vice versa.\n",
    "\n",
    "However they differ in how elements are accessed:\n",
    "* List elements are accessed by their position in the list, via indexing.\n",
    "* Dictionary elements are accessed via keys.\n",
    "\n",
    "\n",
    "This different can been seen in the example below where the function list[1] will return the second element in the list while the function dictionary[1] will search for the key value 1 and return the corresponding value.<sup>[3](#myfootnote3)</sup>"
   ]
  },
  {
   "cell_type": "code",
   "execution_count": 1,
   "metadata": {},
   "outputs": [],
   "source": [
    "list_example = [ \"shark\", \"cuttlefish\", \"squid\", \"anemone\" ]\n",
    "dictionary_example = {2: 11, 3: \"tom\", 4: \"Sean\",  5: 2.4, 0: \"Seven\", 1: 2014 }"
   ]
  },
  {
   "cell_type": "code",
   "execution_count": 2,
   "metadata": {},
   "outputs": [
    {
     "data": {
      "text/plain": [
       "'cuttlefish'"
      ]
     },
     "execution_count": 2,
     "metadata": {},
     "output_type": "execute_result"
    }
   ],
   "source": [
    "list_example[1]"
   ]
  },
  {
   "cell_type": "code",
   "execution_count": 3,
   "metadata": {},
   "outputs": [
    {
     "data": {
      "text/plain": [
       "2014"
      ]
     },
     "execution_count": 3,
     "metadata": {},
     "output_type": "execute_result"
    }
   ],
   "source": [
    "dictionary_example[1]"
   ]
  },
  {
   "cell_type": "markdown",
   "metadata": {},
   "source": [
    "This means that in a list each element has a value while in a dictionary each element has a key and a value.<sup>[3](#myfootnote3)</sup>"
   ]
  },
  {
   "cell_type": "markdown",
   "metadata": {},
   "source": [
    "### Construction of the Counts Program\n",
    "From a review of the litarature available including the works of Jamel Dargan<sup>[4](#myfootnote4)</sup>, Kite<sup>[5](#myfootnote5)</sup> and Geeks for Geeks<sup>[6](#myfootnote6)</sup>, it appears that a number of sub-actions must take place in order for the Counts Program to be able to run in its entirety. These include:\n",
    "* The creation of the designated list\n",
    "* The creation of a blank dictionary\n",
    "* The conversion of the designated list to a distionary and it's addition to the blank dictionary\n",
    "* The acknowledgment of case sensitivity in within the designated list\n",
    "\n",
    "For ease of explanation we will break down each sub-action into designated sub-paragraphs.\n",
    "\n",
    "### Remove steps two and three and combine into one [Convert_dict=(input)]\n",
    "### Use the counts funtion to count the number of items in the list also instead of converting to ablank dictionary\n"
   ]
  },
  {
   "cell_type": "markdown",
   "metadata": {},
   "source": [
    "#### The creation of the designated list\n",
    "In order to create a designated list for the program two different methods "
   ]
  },
  {
   "cell_type": "code",
   "execution_count": 4,
   "metadata": {},
   "outputs": [
    {
     "name": "stdout",
     "output_type": "stream",
     "text": [
      "['A', 2, 'a', 1, 'Tom', 1, 'tom', 2]\n"
     ]
    }
   ],
   "source": [
    "#We create a list of various different inputs\n",
    "list = [\"A\", 2, \"a\", 1, \"Tom\", 1, \"tom\", 2]\n",
    "print(list)"
   ]
  },
  {
   "cell_type": "code",
   "execution_count": 5,
   "metadata": {},
   "outputs": [],
   "source": [
    "#We create a blank dictionary\n",
    "converted_dict = {}"
   ]
  },
  {
   "cell_type": "code",
   "execution_count": 6,
   "metadata": {},
   "outputs": [
    {
     "name": "stdout",
     "output_type": "stream",
     "text": [
      "{'A': '', 2: '', 'a': '', 1: '', 'Tom': '', 'tom': ''}\n"
     ]
    }
   ],
   "source": [
    "#We convert the list to a dictionary and add it to the blank dictionary\n",
    "for i in list:\n",
    "    converted_dict.update({i:\"\"})\n",
    "print(converted_dict)"
   ]
  },
  {
   "cell_type": "code",
   "execution_count": 7,
   "metadata": {},
   "outputs": [
    {
     "name": "stdout",
     "output_type": "stream",
     "text": [
      "The following are the unique items and the number of times they appear in your list\n",
      "{'A': 1, 2: 2, 'a': 1, 1: 2, 'Tom': 1, 'tom': 1}\n"
     ]
    }
   ],
   "source": [
    "for i in range(len(list)):\n",
    "    converted_dict[list[i]] = list.count(list[i])\n",
    "    \n",
    "print(\"The following are the unique items and the number of times they appear in your list\")\n",
    "print(converted_dict)"
   ]
  },
  {
   "cell_type": "code",
   "execution_count": 8,
   "metadata": {},
   "outputs": [
    {
     "name": "stdout",
     "output_type": "stream",
     "text": [
      "6\n"
     ]
    }
   ],
   "source": [
    "#find number of unique keys in the dictionary\n",
    "keys_num = len(converted_dict.keys())\n",
    "print(keys_num)\n",
    "\n",
    "#https://www.codegrepper.com/code-examples/python/find+number+of+unique+keys+in+the+dictionary"
   ]
  },
  {
   "cell_type": "code",
   "execution_count": 9,
   "metadata": {},
   "outputs": [
    {
     "name": "stdout",
     "output_type": "stream",
     "text": [
      "The following are the unique items and the number of times they appear in your list {2: 2, 'False': 1, 'flase': 1, 1: 1, 0.1: 1, '10': 1, 'ten': 1}\n",
      "7\n"
     ]
    }
   ],
   "source": [
    "list = [2, \"False\", \"flase\", 2, 1, .1, \"10\", \"ten\"]\n",
    "converted_dict = {}\n",
    "for i in list:\n",
    "    converted_dict.update({i:\"\"})\n",
    "for i in range(len(list)):\n",
    "    converted_dict[list[i]] = list.count(list[i])  \n",
    "print(\"The following are the unique items and the number of times they appear in your list\", converted_dict)\n",
    "#find number of unique keys in the dictionary\n",
    "keys_num = len(converted_dict.keys())\n",
    "print(keys_num)"
   ]
  },
  {
   "cell_type": "markdown",
   "metadata": {},
   "source": [
    "### Tweaking of the code\n",
    "As we can see from the above, the program takes into account case sensitivity. We do not want that to happen in our program. "
   ]
  },
  {
   "cell_type": "markdown",
   "metadata": {},
   "source": [
    "## References\n",
    "------------------------------------------------------------------------------------------------\n",
    "\n",
    "<a name=\"myfootnote1\">1</a>: Lisa Tagliaferri - Understanding Lists in Python 3, <https://www.digitalocean.com/community/tutorials/understanding-lists-in-python-3>\n",
    "\n",
    "<a name=\"myfootnote2\">2</a>: W3schools.com - Python Dictionaries, <https://www.w3schools.com/python/python_dictionaries.asp>\n",
    "\n",
    "<a name=\"myfootnote3\">3</a>: John Sturtz, Dictionaries in Python, <https://realpython.com/python-dicts/>\n",
    "\n",
    "<a name=\"myfootnote4\">4</a>: Jamel Dargan, Create a Dictionary From a List, <https://medium.com/swlh/create-a-dictionary-from-a-list-65742246ab4b>\n",
    "\n",
    "<a name=\"myfootnote5\">5</a>: Kite, How to count the number of unique values in a list in Python, <https://www.kite.com/python/answers/how-to-count-the-number-of-unique-values-in-a-list-in-python>\n",
    "\n",
    "<a name=\"myfootnote6\">6</a>: Geeks for Geeks, Counting the frequencies in a list using dictionary in Python, <https://www.geeksforgeeks.org/counting-the-frequencies-in-a-list-using-dictionary-in-python/>"
   ]
  },
  {
   "cell_type": "markdown",
   "metadata": {},
   "source": [
    "##  Bibliography\n",
    "------------------------------------------------------------------------------------------------\n",
    "\n",
    "Within the course of this assessment the following sources were also used for research purposes:\n",
    "\n",
    "### Task 1 - Counts\n",
    "* Jamel Dargan - Create a Dictionary From a List, <https://medium.com/swlh/create-a-dictionary-from-a-list-65742246ab4b>\n",
    "\n",
    "* Xspdf.com - Python dictionary count values per key, <https://www.xspdf.com/resolution/50472727.html>\n",
    "\n",
    "* Geeks for Geeks - Counting the frequencies in a list using dictionary in Python, <https://www.geeksforgeeks.org/counting-the-frequencies-in-a-list-using-dictionary-in-python/>\n",
    "\n",
    "* Geeks for Geeks - Python | Count number of items in a dictionary value that is a list, <https://www.geeksforgeeks.org/python-count-number-of-items-in-a-dictionary-value-that-is-a-list/>\n",
    "\n",
    "* Gabriel Cánepa - Manipulating Lists and Dictionaries in Python, <https://www.pluralsight.com/guides/manipulating-lists-dictionaries-python>"
   ]
  }
 ],
 "metadata": {
  "kernelspec": {
   "display_name": "Python 3",
   "language": "python",
   "name": "python3"
  },
  "language_info": {
   "codemirror_mode": {
    "name": "ipython",
    "version": 3
   },
   "file_extension": ".py",
   "mimetype": "text/x-python",
   "name": "python",
   "nbconvert_exporter": "python",
   "pygments_lexer": "ipython3",
   "version": "3.8.2"
  }
 },
 "nbformat": 4,
 "nbformat_minor": 4
}
