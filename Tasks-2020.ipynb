{
 "cells": [
  {
   "cell_type": "markdown",
   "metadata": {},
   "source": [
    "<img align=\"centre\" width=\"750\" height=\"750\" img src=\"https://i0.wp.com/www.creatingentrepreneursinfood.eu/wp-content/uploads/2017/02/GMIT-logo.png\">"
   ]
  },
  {
   "cell_type": "markdown",
   "metadata": {},
   "source": [
    "# Tasks 2020 \n",
    "\n",
    "* **Author:** John Paul Lee\n",
    "* **Github:** JPLee01\n",
    "* **Email:** G00387906@gmit.ie\n",
    "* **Created:** 09-10-2020, **Last update:** -12-2020\n",
    "****"
   ]
  },
  {
   "cell_type": "markdown",
   "metadata": {},
   "source": [
    "Jupyter Notebook created to store and highlight the four tasks for the Tasks 2020 Assessment for the Fundamentals of Data Analysis Subject.\n",
    "****"
   ]
  },
  {
   "cell_type": "markdown",
   "metadata": {},
   "source": [
    "## Task 1 - Counts\n",
    "Requirment is to write a Python function called *Counts* that takes a list as input and returns a dictionary of unique items in the list as keys and the number of times each item appears as values. Caveat is that the code should not depend on any module from the standard library or otherwise."
   ]
  },
  {
   "cell_type": "markdown",
   "metadata": {},
   "source": [
    "### Introduction\n",
    "Firstly in order to begin this task we need the understand what we mean by a list and dictonary are in Python.\n",
    "\n",
    "#### List and Dictonaries\n",
    "According to Lisa Tagliaferri<sup>[1](#myfootnote1)</sup> a list is data structure in Python that is a mutable, or changeable, ordered sequence of elements. Each element or value that is inside of a list is called an item. Just as strings are defined as characters between quotes, lists are defined by having values between square brackets [ ].\n",
    "\n",
    "An example of a list is as follows:\n",
    "    \n",
    "    list_example = [ \"shark\", \"cuttlefish\", \"squid\", \"anemone\" ]\n",
    "\n",
    "While w3schools.com<sup>[2](#myfootnote2)</sup> defines a dictionary as a collection which is unordered, changeable and indexed. Dictionaries are written with curly brackets, and they have keys and values.\n",
    "\n",
    "An example of a dictionary is as follows:\n",
    "    \n",
    "    dictionary_example = { 11, \"tom\", \"Sean\",  2.4, \"Seven\", 2014 }\n",
    "    \n",
    "Dictionaries and lists share many of the same characteristics inlcuding:\n",
    "   * Both are mutable.\n",
    "   * Both are dynamic. They can grow and shrink as needed.\n",
    "   * Both can be nested. A list can contain another list. A dictionary can contain another dictionary. A dictionary can also contain a list, and vice versa.\n",
    "\n",
    "However they differ in how elements are accessed:\n",
    "* List elements are accessed by their position in the list, via indexing.\n",
    "* Dictionary elements are accessed via keys.\n",
    "\n",
    "\n",
    "This different can been seen in the example below where the function list[1] will return the second element in the list while the function dictionary[1] will search for the key value 1 and return the corresponding value.<sup>[3](#myfootnote3)</sup>"
   ]
  },
  {
   "cell_type": "code",
   "execution_count": 1,
   "metadata": {},
   "outputs": [],
   "source": [
    "list_example = [ \"shark\", \"cuttlefish\", \"squid\", \"anemone\" ]\n",
    "dictionary_example = {2: 11, 3: \"tom\", 4: \"Sean\",  5: 2.4, 0: \"Seven\", 1: 2014 }"
   ]
  },
  {
   "cell_type": "code",
   "execution_count": 2,
   "metadata": {},
   "outputs": [
    {
     "data": {
      "text/plain": [
       "'cuttlefish'"
      ]
     },
     "execution_count": 2,
     "metadata": {},
     "output_type": "execute_result"
    }
   ],
   "source": [
    "list_example[1]"
   ]
  },
  {
   "cell_type": "code",
   "execution_count": 3,
   "metadata": {},
   "outputs": [
    {
     "data": {
      "text/plain": [
       "2014"
      ]
     },
     "execution_count": 3,
     "metadata": {},
     "output_type": "execute_result"
    }
   ],
   "source": [
    "dictionary_example[1]"
   ]
  },
  {
   "cell_type": "markdown",
   "metadata": {},
   "source": [
    "This means that in a list each element has a value while in a dictionary each element has a key and a value.<sup>[3](#myfootnote3)</sup>"
   ]
  },
  {
   "cell_type": "markdown",
   "metadata": {},
   "source": [
    "### Construction of the Counts Program\n",
    "From a review of the litarature available including the works of Jamel Dargan<sup>[4](#myfootnote4)</sup>, Kite<sup>[5](#myfootnote5)</sup> and Geeks for Geeks<sup>[6](#myfootnote6)</sup>, it appears that a number of sub-actions must take place in order for the Counts Program to be able to run in its entirety. These include:\n",
    "* The creation of the designated list\n",
    "* The creation of a blank dictionary\n",
    "* The conversion of the designated list to a distionary and it's addition to the blank dictionary\n",
    "* The acknowledgment of case sensitivity in within the designated list\n",
    "\n",
    "For ease of explanation we will break down each sub-action into designated sub-paragraphs.\n",
    "\n",
    "### Remove steps two and three and combine into one [Convert_dict=(input)]\n",
    "### Use the counts funtion to count the number of items in the list also instead of converting to a blank dictionary\n"
   ]
  },
  {
   "cell_type": "markdown",
   "metadata": {},
   "source": [
    "#### The creation of the designated list\n",
    "In order to create a designated list for the program two different methods "
   ]
  },
  {
   "cell_type": "code",
   "execution_count": 4,
   "metadata": {},
   "outputs": [
    {
     "name": "stdout",
     "output_type": "stream",
     "text": [
      "['A', 2, 'a', 1, 'Tom', 1, 'tom', 2]\n"
     ]
    }
   ],
   "source": [
    "#We create a list of various different inputs\n",
    "list = [\"A\", 2, \"a\", 1, \"Tom\", 1, \"tom\", 2]\n",
    "print(list)"
   ]
  },
  {
   "cell_type": "code",
   "execution_count": 5,
   "metadata": {},
   "outputs": [],
   "source": [
    "#We create a blank dictionary\n",
    "converted_dict = {}"
   ]
  },
  {
   "cell_type": "code",
   "execution_count": 6,
   "metadata": {},
   "outputs": [
    {
     "name": "stdout",
     "output_type": "stream",
     "text": [
      "{'A': '', 2: '', 'a': '', 1: '', 'Tom': '', 'tom': ''}\n"
     ]
    }
   ],
   "source": [
    "#We convert the list to a dictionary and add it to the blank dictionary\n",
    "for i in list:\n",
    "    converted_dict.update({i:\"\"})\n",
    "print(converted_dict)"
   ]
  },
  {
   "cell_type": "code",
   "execution_count": 7,
   "metadata": {},
   "outputs": [
    {
     "name": "stdout",
     "output_type": "stream",
     "text": [
      "The following are the unique items and the number of times they appear in your list\n",
      "{'A': 1, 2: 2, 'a': 1, 1: 2, 'Tom': 1, 'tom': 1}\n"
     ]
    }
   ],
   "source": [
    "for i in range(len(list)):\n",
    "    converted_dict[list[i]] = list.count(list[i])\n",
    "    \n",
    "print(\"The following are the unique items and the number of times they appear in your list\")\n",
    "print(converted_dict)"
   ]
  },
  {
   "cell_type": "code",
   "execution_count": 8,
   "metadata": {},
   "outputs": [
    {
     "name": "stdout",
     "output_type": "stream",
     "text": [
      "6\n"
     ]
    }
   ],
   "source": [
    "#find number of unique keys in the dictionary\n",
    "keys_num = len(converted_dict.keys())\n",
    "print(keys_num)\n",
    "\n",
    "#https://www.codegrepper.com/code-examples/python/find+number+of+unique+keys+in+the+dictionary"
   ]
  },
  {
   "cell_type": "code",
   "execution_count": 9,
   "metadata": {},
   "outputs": [
    {
     "name": "stdout",
     "output_type": "stream",
     "text": [
      "The following are the unique items and the number of times they appear in your list {2: 2, 'False': 1, 'flase': 1, 1: 1, 0.1: 1, '10': 1, 'ten': 1}\n",
      "7\n"
     ]
    }
   ],
   "source": [
    "list = [2, \"False\", \"flase\", 2, 1, .1, \"10\", \"ten\"]\n",
    "converted_dict = {}\n",
    "for i in list:\n",
    "    converted_dict.update({i:\"\"})\n",
    "for i in range(len(list)):\n",
    "    converted_dict[list[i]] = list.count(list[i])  \n",
    "print(\"The following are the unique items and the number of times they appear in your list\", converted_dict)\n",
    "#find number of unique keys in the dictionary\n",
    "keys_num = len(converted_dict.keys())\n",
    "print(keys_num)"
   ]
  },
  {
   "cell_type": "markdown",
   "metadata": {},
   "source": [
    "### Tweaking of the code\n",
    "As we can see from the above, the program takes into account case sensitivity. We do not want that to happen in our program. "
   ]
  },
  {
   "cell_type": "markdown",
   "metadata": {},
   "source": [
    "## Task 2 - Dicerolls\n",
    "Write a Python function called *dicerolls* that simulates rolling dice. Your function should take two parameters: the number of dice *k* and the number of times to roll the dice *n*. The function should simulate randomly rolling *k* dice *n* times, keeping track of each total face value. It should then return a dictionary with the number of times each possible total face value occurred."
   ]
  },
  {
   "cell_type": "markdown",
   "metadata": {},
   "source": [
    "### Introduction\n",
    "In essence the above task is asking us to:\n",
    "1. Simulate the roll of a die and store the result (k)\n",
    "2. Simulate the roll of another die and store the result (n).\n",
    "3. Add the results of the two simulations and display them in a dictionary with the number of times each possible total face value occurred.\n",
    "\n",
    "As the result from the rolling of the a dice is random the *random* module from the Python Standard Libary will have to be implemented. The *random* module implements pseudo-random number generators for various distributions.<sup>[7](#myfootnote7)</sup> This module is vital for the task as it will help sumulate the random outcome that can be achieved from rolling a dice. \n",
    "\n",
    "The randint() function from the *random* module will specifically be used to simulate the rolling of a dice. The randint() function returns a random number between the given range.<sup>[8](#myfootnote8)</sup> As the lowest score for a die is 1 and the highest is 6 this will be our range."
   ]
  },
  {
   "cell_type": "markdown",
   "metadata": {},
   "source": [
    "Fristly we need to ask the user to select the number of die being rolled (k) and the number of times the die will be rolled (n). "
   ]
  },
  {
   "cell_type": "code",
   "execution_count": 10,
   "metadata": {},
   "outputs": [
    {
     "name": "stdout",
     "output_type": "stream",
     "text": [
      "The number of die being rolled:1\n",
      "The number of times the die will be rolled:2\n"
     ]
    }
   ],
   "source": [
    "#Ask the user the input of n and k\n",
    "k= int(input(\"The number of die being rolled:\"))\n",
    "n= int(input(\"The number of times the die will be rolled:\"))"
   ]
  },
  {
   "cell_type": "markdown",
   "metadata": {},
   "source": [
    "As we know the minimum and maximum score for a dice single roll we will set them."
   ]
  },
  {
   "cell_type": "code",
   "execution_count": 11,
   "metadata": {},
   "outputs": [],
   "source": [
    "min_value = 1\n",
    "max_value = 6"
   ]
  },
  {
   "cell_type": "markdown",
   "metadata": {},
   "source": [
    "Obviously if more than ine die (k) is rolled we need to account for that."
   ]
  },
  {
   "cell_type": "code",
   "execution_count": 12,
   "metadata": {},
   "outputs": [],
   "source": [
    "if k > 1:\n",
    "        min_value = k * 1\n",
    "        max_value = k * 6"
   ]
  },
  {
   "cell_type": "markdown",
   "metadata": {},
   "source": [
    "We then need to create a dictionary to store the result of the die roll. As seen in the work of Pavlenko<sup>[9](#myfootnote9)</sup> *+ 1* is added to the max_value function to allow the max_value (6) be included."
   ]
  },
  {
   "cell_type": "code",
   "execution_count": 13,
   "metadata": {},
   "outputs": [
    {
     "ename": "SyntaxError",
     "evalue": "invalid syntax (<ipython-input-13-4d0549d44ea5>, line 1)",
     "output_type": "error",
     "traceback": [
      "\u001b[0;36m  File \u001b[0;32m\"<ipython-input-13-4d0549d44ea5>\"\u001b[0;36m, line \u001b[0;32m1\u001b[0m\n\u001b[0;31m    roll = {for i in range(min_value, max_value + 1)}\u001b[0m\n\u001b[0m            ^\u001b[0m\n\u001b[0;31mSyntaxError\u001b[0m\u001b[0;31m:\u001b[0m invalid syntax\n"
     ]
    }
   ],
   "source": [
    "roll = {for i in range(min_value, max_value + 1)}"
   ]
  },
  {
   "cell_type": "markdown",
   "metadata": {},
   "source": [
    "We then creation a for loop that loops through the range \"n\" times.<sup>[10](#myfootnote10)</sup><sup>[11](#myfootnote11)</sup>"
   ]
  },
  {
   "cell_type": "code",
   "execution_count": null,
   "metadata": {},
   "outputs": [],
   "source": [
    "for i in range(n):\n",
    "    roll = {random.randint(min_value, max_value) + 1}"
   ]
  },
  {
   "cell_type": "code",
   "execution_count": null,
   "metadata": {},
   "outputs": [],
   "source": [
    "k= int(input(\"The number of die being rolled:\"))\n",
    "n= int(input(\"The number of times the die will be rolled:\"))\n",
    "\n",
    "def dicerolls(k,n):\n",
    "    min_value = 1\n",
    "    max_value = 6\n",
    "    if k > 1:\n",
    "        min_value = k * 1\n",
    "        max_value = k * 6\n",
    "    roll = {i:0 for i in range(min_value, max_value + 1)}  \n",
    "    for i in range(n):\n",
    "        roll[random.randint(min_value, max_value)] += 1\n",
    "    print(roll)\n",
    "dicerolls(k,n)"
   ]
  },
  {
   "cell_type": "markdown",
   "metadata": {},
   "source": [
    "## Task 3 - numpy.random.binomial\n",
    "Write some python code that simulates flipping a coin 100 times. Then run this code 1,000 times, keeping track of the number of heads in each of the 1,000 simulations. Select an appropriate plot to depict the resulting list of 1,000 numbers, showing that it roughly follows a bell-shaped curve."
   ]
  },
  {
   "cell_type": "code",
   "execution_count": null,
   "metadata": {},
   "outputs": [],
   "source": [
    "References used:\n",
    "    https://cmdlinetips.com/2018/12/simulating-coin-toss-experiment-with-binomial-random-numbers-using-numpy/\n",
    "    https://towardsdatascience.com/how-to-code-a-fair-coin-flip-in-python-d54312f33da9\n",
    "    https://www.w3schools.com/python/numpy_random_binomial.asp\n",
    "    https://stackoverflow.com/questions/14882530/python-coin-toss?rq=1\n",
    "    https://towardsdatascience.com/fun-with-the-binomial-distribution-96a5ecabf65b\n",
    "    https://medium.com/@tharakau/what-is-binomial-distribution-and-how-to-plot-it-using-python-e9d95bd341ee"
   ]
  },
  {
   "cell_type": "code",
   "execution_count": null,
   "metadata": {},
   "outputs": [],
   "source": [
    "import numpy as np\n",
    "#Ask the user to input the number of times to flip the coin and the number of simulations\n",
    "p= int(input(\"Number of times to flip the coin:\"))\n",
    "\n",
    "def coinflip(p):\n",
    "#Heads = 1\n",
    "#Tails = 0\n",
    "    result = np.random.binomial(1,.5, p)\n",
    "    print(\"Head Count: \", np.count_nonzero(result == 1))\n",
    "    print(\"Tail Count: \", np.count_nonzero(result == 0))\n",
    "    \n",
    "coinflip(p)          "
   ]
  },
  {
   "cell_type": "code",
   "execution_count": null,
   "metadata": {
    "scrolled": true
   },
   "outputs": [],
   "source": [
    "import numpy as np\n",
    "import seaborn as sns\n",
    "import matplotlib.pyplot as plt\n",
    "\n",
    "p= int(input(\"Number of times to flip the coin:\"))\n",
    "n= int(input(\"Number of simulations:\"))\n",
    "\n",
    "def coinflip(p, n):\n",
    "    for i in range(n):\n",
    "        result = np.random.binomial(1,.5, p)\n",
    "        print(\"Head Count: \", np.count_nonzero(result == 1))\n",
    "        print(\"Tail Count: \", np.count_nonzero(result == 0))\n",
    "\n",
    "coinflip(p, n)   \n",
    "\n",
    "#Need to find out how to add all the Heads and Tails results"
   ]
  },
  {
   "cell_type": "code",
   "execution_count": null,
   "metadata": {
    "scrolled": false
   },
   "outputs": [],
   "source": [
    "import numpy as np\n",
    "import seaborn as sns\n",
    "import matplotlib.pyplot as plt\n",
    "\n",
    "p= int(input(\"Number of times to flip the coin:\"))\n",
    "n= int(input(\"Number of simulations:\"))\n",
    "\n",
    "def coinflip(p, n):\n",
    "    for i in range(n):\n",
    "        result = np.random.binomial(1,.5, p)\n",
    "        print(\"Head Count: \", np.count_nonzero(result == 1))\n",
    "        print(\"Tail Count: \", np.count_nonzero(result == 0))\n",
    "\n",
    "coinflip(p, n) \n",
    "\n",
    "\n",
    "#Visualise the above Integers\n",
    "sns.distplot(np.random.binomial(n,.5, p))\n",
    "plt.xlabel(\"Number of Heds\")\n",
    "plt.ylabel(\"Probability\")\n",
    "\n",
    "\n",
    "\n",
    "#plt.hist(np.random.binomial(n,.5, p))"
   ]
  },
  {
   "cell_type": "code",
   "execution_count": null,
   "metadata": {},
   "outputs": [],
   "source": [
    "import random\n",
    "\n",
    "p= int(input(\"Number of times to flip the coin:\"))\n",
    "n= int(input(\"Number of simulations:\"))\n",
    "\n",
    "def coinflip(p, n):\n",
    "    Heads, Tails, Count = 0, 0\n",
    "    for i in range(n):\n",
    "        result = np.random.binomial(1,.5, p)\n",
    "        if result == 1:\n",
    "            Heads += 1\n",
    "        else:\n",
    "            Tails += 1\n",
    "        Count += 1\n",
    "    print('Heads:', Heads)\n",
    "    print('Tails:', Tails)\n",
    "    "
   ]
  },
  {
   "cell_type": "code",
   "execution_count": null,
   "metadata": {},
   "outputs": [],
   "source": [
    " for i in range(n):\n",
    "        result = np.random.binomial(1,.5, p)\n",
    "        if result == 0:\n",
    "            results.append('Heads')\n",
    "        elif result == 1:\n",
    "            results.append('Tails')\n",
    "print(results)"
   ]
  },
  {
   "cell_type": "code",
   "execution_count": null,
   "metadata": {},
   "outputs": [],
   "source": [
    "p= int(input(\"Number of times to flip the coin:\"))\n",
    "n= int(input(\"Number of simulations:\"))\n",
    "\n",
    "def coinflip(p, n):\n",
    "    recordList = []\n",
    "    heads = 0\n",
    "    tails = 0\n",
    "    for amount in range(n):\n",
    "         flip = np.random.binomial(1,.5, p)\n",
    "         if (flip == 0):\n",
    "              print(\"Heads\")\n",
    "              recordList.append(\"Heads\")\n",
    "         else:\n",
    "              print(\"Tails\")\n",
    "              recordList.append(\"Tails\")\n",
    "    print(str(recordList))\n",
    "    print(str(recordList.count(\"Heads\")) + str(recordList.count(\"Tails\")))"
   ]
  },
  {
   "cell_type": "markdown",
   "metadata": {},
   "source": [
    "## Task 4 - Simpson’s Paradox\n",
    "Simpson’s paradox is a well-known statistical paradox where a trend evident in a number of groups reverses when the groups are combined into one big data set. Use numpy to create four data sets, each with an ```x``` array and a corresponding ```y``` array, to demonstrate Simpson’s paradox. You might create your ```x``` arrays using ```numpy.linspace``` and create the ```y``` array for each ```x``` using notation like ```y = a * x + b``` where you choose the ```a``` and ```b``` for each ```x``` , ```y``` pair to demonstrate the paradox."
   ]
  },
  {
   "cell_type": "markdown",
   "metadata": {},
   "source": [
    "### Research\n",
    "According to Pearl, Simpson's paradox is a statistical phenomenon: \"whereby the association between a pair of variables *(X, Y)* reverses sign upon conditioning of a third variable, *Z*, regardless of the value taken by *Z*. If the data is partitioned into subpopulations, each representing a specific value of the third variable, the phenomena appears as a sign reversal between the associations measured in the disaggregated subpopulations relative to the aggregated data, which describes the population as a whole.<sup>[20](#myfootnote20)</sup> \n",
    "\n",
    "Named after British statistician Edward Simpson, Simpson's paradox \n",
    "\n",
    "\n",
    "\n",
    "a statistical phenomenon which occurs when groups of data show one particular trend, but this trend is reversed when the groups are combined together.<sup>[20](#myfootnote20)</sup> "
   ]
  },
  {
   "cell_type": "code",
   "execution_count": 32,
   "metadata": {},
   "outputs": [
    {
     "ename": "SyntaxError",
     "evalue": "invalid syntax (<ipython-input-32-2b055b0404d1>, line 25)",
     "output_type": "error",
     "traceback": [
      "\u001b[0;36m  File \u001b[0;32m\"<ipython-input-32-2b055b0404d1>\"\u001b[0;36m, line \u001b[0;32m25\u001b[0m\n\u001b[0;31m    print (df)\u001b[0m\n\u001b[0m    ^\u001b[0m\n\u001b[0;31mSyntaxError\u001b[0m\u001b[0;31m:\u001b[0m invalid syntax\n"
     ]
    }
   ],
   "source": [
    "import numpy as np\n",
    "import pandas as pd\n",
    "\n",
    "a1 = 2\n",
    "b1 = 4\n",
    "x = np.linspace(30, 45, num=3)\n",
    "y = a1 * x + b1\n",
    "\n",
    "Table1 = {'Male' [x], 'Female' [y], 'Maths'}\n",
    "\n",
    "df = pd.DataFrame(Table1, columns = ['Maths'], rows = ['Male', 'Female'])\n",
    "\n",
    "print (df)\n",
    "\n",
    "\n",
    "a2 = 6\n",
    "b2 = 8\n",
    "x = np.linspace(10, 20, num=1)\n",
    "y = a2 * x + b2\n",
    "\n",
    "Table2 = {'Colour': ['Red', 'Blue'],  'Type': [x], 'Type2': [y]}\n",
    "\n",
    "df = pd.DataFrame(Table2, columns = ['Colour', 'Type', 'Type2']\n",
    "\n",
    "print (df)\n"
   ]
  },
  {
   "cell_type": "code",
   "execution_count": 52,
   "metadata": {},
   "outputs": [
    {
     "name": "stdout",
     "output_type": "stream",
     "text": [
      "       Male  Female\n",
      "Maths  30.0    64.0\n",
      "         Male  Female\n",
      "History  40.0    81.0\n",
      "       Male  Female\n",
      "Music  50.0    53.0\n",
      "         Male  Female\n",
      "English  20.0    62.0\n"
     ]
    }
   ],
   "source": [
    "#Code to generate 4 Data Sets with an X (Male) and Y (Female) array \n",
    "\n",
    "import pandas as pd\n",
    "import numpy as np\n",
    "\n",
    "a = 2\n",
    "b = 4\n",
    "x = np.linspace(30, 50, num=1)\n",
    "y = a * x + b\n",
    "\n",
    "df = pd.DataFrame({'Male': x, 'Female': y}, index = ['Maths'])\n",
    "\n",
    "print(df) \n",
    "\n",
    "\n",
    "a1 = 2\n",
    "b1 = 1\n",
    "x1 = np.linspace(40, 60, num=1)\n",
    "y1 = a1 * x1 + b1\n",
    "\n",
    "df1 = pd.DataFrame({'Male': x1, 'Female': y1}, index = ['History'])\n",
    "\n",
    "print(df1) \n",
    "\n",
    "\n",
    "a2 = 1\n",
    "b2 = 3\n",
    "x2 = np.linspace(50, 70, num=1)\n",
    "y2 = a2 * x2 + b2\n",
    "\n",
    "df2 = pd.DataFrame({'Male': x2, 'Female': y2}, index = ['Music'])\n",
    "\n",
    "print(df2) \n",
    "\n",
    "\n",
    "a3 = 3\n",
    "b3 = 2\n",
    "x3 = np.linspace(20, 50, num=1)\n",
    "y3 = a3 * x3 + b3\n",
    "\n",
    "df3 = pd.DataFrame({'Male': x3, 'Female': y3}, index = ['English'])\n",
    "\n",
    "print(df3) "
   ]
  },
  {
   "cell_type": "code",
   "execution_count": 64,
   "metadata": {},
   "outputs": [
    {
     "name": "stdout",
     "output_type": "stream",
     "text": [
      "TESTING FOR SIMPSON'S PARADOX\n",
      "GENERATING RANDOM FOUR DATASETS\n",
      "[[[  0.6  ]\n",
      "  [  0.64 ]]\n",
      "\n",
      " [[  0.8  ]\n",
      "  [  0.81 ]]\n",
      "\n",
      " [[  1.   ]\n",
      "  [  0.53 ]]\n",
      "\n",
      " [[  0.4  ]\n",
      "  [  0.62 ]]\n",
      "\n",
      " [[120.1  ]\n",
      "  [198.155]]]\n"
     ]
    }
   ],
   "source": [
    "\n",
    "\n",
    "\n",
    "\n",
    "x_percentage = x / 50\n",
    "y_percentage = y / 100\n",
    "\n",
    "x1_percentage = x1 / 50\n",
    "y1_percentage = y1 / 100\n",
    "\n",
    "x2_percentage = x2 / 50\n",
    "y2_percentage = y2 / 100\n",
    "\n",
    "x3_percentage = x3 / 50\n",
    "y3_percentage = y3 / 100\n",
    "\n",
    "Total_x_percentage = (x+x1+x2+x3 / 200)\n",
    "Total_y_percentage = (y+y1+y2+y3 / 400)\n",
    "\n",
    "arr = np.array([[x_percentage, y_percentage], \n",
    "                [x1_percentage, y1_percentage], \n",
    "                [x2_percentage, y2_percentage], \n",
    "                [x3_percentage, y3_percentage],\n",
    "                [Total_x_percentage, Total_y_percentage]]) \n",
    "\n",
    "print(arr)"
   ]
  },
  {
   "cell_type": "markdown",
   "metadata": {},
   "source": [
    "## References\n",
    "------------------------------------------------------------------------------------------------\n",
    "\n",
    "<a name=\"myfootnote1\">1</a>: Lisa Tagliaferri - Understanding Lists in Python 3, <https://www.digitalocean.com/community/tutorials/understanding-lists-in-python-3>\n",
    "\n",
    "<a name=\"myfootnote2\">2</a>: W3schools.com - Python Dictionaries, <https://www.w3schools.com/python/python_dictionaries.asp>\n",
    "\n",
    "<a name=\"myfootnote3\">3</a>: John Sturtz - Dictionaries in Python, <https://realpython.com/python-dicts/>\n",
    "\n",
    "<a name=\"myfootnote4\">4</a>: Jamel Dargan - Create a Dictionary From a List, <https://medium.com/swlh/create-a-dictionary-from-a-list-65742246ab4b>\n",
    "\n",
    "<a name=\"myfootnote5\">5</a>: Kite - How to count the number of unique values in a list in Python, <https://www.kite.com/python/answers/how-to-count-the-number-of-unique-values-in-a-list-in-python>\n",
    "\n",
    "<a name=\"myfootnote6\">6</a>: Geeks for Geeks - Counting the frequencies in a list using dictionary in Python, <https://www.geeksforgeeks.org/counting-the-frequencies-in-a-list-using-dictionary-in-python/>\n",
    "\n",
    "\n",
    "Task 2 Onwards\n",
    "<a name=\"myfootnote7\">7</a>: Python 3.9.1 Documentation - random — Generate pseudo-random numbers, <https://docs.python.org/3/library/random.html>\n",
    "\n",
    "<a name=\"myfootnote8\">8</a>: Geek for Geeks - randint() Function in Python, <https://www.geeksforgeeks.org/python-randint-function/>\n",
    "\n",
    "<a name=\"myfootnote9\">9</a>: Vitaly Pavlenko - For loop with range, <https://snakify.org/en/lessons/for_loop_range/>\n",
    "\n",
    "<a name=\"myfootnote10\">10</a>: AoPS Online - Basic Programming With Python, <https://artofproblemsolving.com/wiki/index.php/Basic_Programming_With_Python#Random>\n",
    "\n",
    "<a name=\"myfootnote11\">11</a>: Stack Overflow - Rolling a dice in python n times, <https://stackoverflow.com/questions/38045621/rolling-a-dice-in-python-n-times>\n",
    "\n",
    "\n",
    "### Task 4 - Simpons Paradox\n",
    "<a name=\"myfootnote20\">20</a>: Judea Pearl - Understanding Simpson’s Paradox, <https://ftp.cs.ucla.edu/pub/stat_ser/r414.pdf>\n",
    "\n",
    "<a name=\"myfootnote21\">21</a>: Ivan Koswara et al. - Simpson's Paradox, <https://brilliant.org/wiki/simpsons-paradox/>\n"
   ]
  },
  {
   "cell_type": "markdown",
   "metadata": {},
   "source": [
    "##  Bibliography\n",
    "------------------------------------------------------------------------------------------------\n",
    "\n",
    "Within the course of this assessment the following sources were also used for research purposes:\n",
    "\n",
    "### Task 1 - Counts\n",
    "* Jamel Dargan - Create a Dictionary From a List, <https://medium.com/swlh/create-a-dictionary-from-a-list-65742246ab4b>\n",
    "\n",
    "* Xspdf.com - Python dictionary count values per key, <https://www.xspdf.com/resolution/50472727.html>\n",
    "\n",
    "* Geeks for Geeks - Counting the frequencies in a list using dictionary in Python, <https://www.geeksforgeeks.org/counting-the-frequencies-in-a-list-using-dictionary-in-python/>\n",
    "\n",
    "* Geeks for Geeks - Python | Count number of items in a dictionary value that is a list, <https://www.geeksforgeeks.org/python-count-number-of-items-in-a-dictionary-value-that-is-a-list/>\n",
    "\n",
    "* Gabriel Cánepa - Manipulating Lists and Dictionaries in Python, <https://www.pluralsight.com/guides/manipulating-lists-dictionaries-python>\n",
    "\n",
    "\n",
    "\n",
    "\n",
    "### Task 2 - Dicerolls\n",
    "* Dapper Dino - Python Tutorial 4 - Simple Roll A Dice Task, <https://www.youtube.com/watch?v=PN5Mx_Ajrzs>\n",
    "\n",
    "* Hamza Hesham - Dice rolling game using python, <https://dev.to/oxy_oxide/dice-rolling-game-using-python-pn>\n",
    "\n",
    "* Stack Overflow - Dice rolling simulator in Python, <https://stackoverflow.com/questions/44008489/dice-rolling-simulator-in-python>\n",
    "\n",
    "* Data Science Unlimted - Step By Step: Coding A Dice Roll Simulator In Python, <https://datascienceunlimited.tech/step-by-step-coding-a-dice-roll-simulator-in-python/>\n",
    "\n",
    "* Python for Beginners - Python Game : Rolling the dice, <https://www.pythonforbeginners.com/code-snippets-source-code/game-rolling-the-dice>\n",
    "\n",
    "* Rebeca Ansar - How to Simulate a Dice Roll and Guess the Result in Python, <https://medium.com/an-amygdala/how-to-simulate-a-dice-roll-and-guess-the-result-in-python-9785079af6f3>\n",
    "\n",
    "* PYnative - Python range() function explained with examples, <https://pynative.com/python-range-function/>\n",
    "\n",
    "\n",
    "### Task 3 - numpy.random.binomia\n",
    "* https://www.codespeedy.com/biased-coin-flipping-simulation-in-python/\n",
    "* https://stackoverflow.com/questions/46671144/tossing-a-fair-coin-for-100-times-and-count-the-number-of-heads-repeat-this-sim\n",
    "* https://stackoverflow.com/questions/63839778/binomial-distribution-simulation-python\n",
    "* Stack Overflow - binomial distribution using numpy, <https://stackoverflow.com/questions/62305011/binomial-distribution-using-numpy>\n",
    "* R Pubs - Takes 1 random sample from the vector (in this case, c(“heads”, “tails”) you supplied in the first argument, <https://rpubs.com/DThurtleSchmdit/530416>\n",
    "* \n",
    "\n",
    "\n",
    "### Task 4 - Simpons Paradox\n",
    "* Numpy 1.19 Manual - numpy.linspace, <https://numpy.org/doc/stable/reference/generated/numpy.linspace.html>\n",
    "* note.nkmk.me - pandas: Rename index / columns names (labels) of DataFrame, <https://note.nkmk.me/en/python-pandas-dataframe-rename/>\n",
    "* "
   ]
  }
 ],
 "metadata": {
  "kernelspec": {
   "display_name": "Python 3",
   "language": "python",
   "name": "python3"
  },
  "language_info": {
   "codemirror_mode": {
    "name": "ipython",
    "version": 3
   },
   "file_extension": ".py",
   "mimetype": "text/x-python",
   "name": "python",
   "nbconvert_exporter": "python",
   "pygments_lexer": "ipython3",
   "version": "3.8.2"
  }
 },
 "nbformat": 4,
 "nbformat_minor": 4
}
